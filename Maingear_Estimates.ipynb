{
  "nbformat": 4,
  "nbformat_minor": 0,
  "metadata": {
    "colab": {
      "name": "Maingear Estimates.ipynb",
      "provenance": [],
      "authorship_tag": "ABX9TyMa4euPc/RCfo94h9VNZgRK",
      "include_colab_link": true
    },
    "kernelspec": {
      "name": "python3",
      "display_name": "Python 3"
    },
    "language_info": {
      "name": "python"
    }
  },
  "cells": [
    {
      "cell_type": "markdown",
      "metadata": {
        "id": "view-in-github",
        "colab_type": "text"
      },
      "source": [
        "<a href=\"https://colab.research.google.com/github/AdrianDiez/Maingear-Estimator/blob/main/Maingear_Estimates.ipynb\" target=\"_parent\"><img src=\"https://colab.research.google.com/assets/colab-badge.svg\" alt=\"Open In Colab\"/></a>"
      ]
    },
    {
      "cell_type": "markdown",
      "metadata": {
        "id": "dTqzXdsDy8E8"
      },
      "source": [
        "# Maingear Estimator\n",
        "\n",
        "Given the low availability of data after some research it was found that using logarithmic regression would be the most addecuate given the simplicity of the task and the amount of information in the dataset.\n",
        "Source: [The Best Classifier for Small Datasets: Log-F(m,m) Logit](https://medium.com/@remycanario17/log-f-m-m-logit-the-best-classification-algorithm-for-small-datasets-fc92fd95bc58)"
      ]
    },
    {
      "cell_type": "markdown",
      "metadata": {
        "id": "FIYjs5q-7iNm"
      },
      "source": [
        "## Dependencies\n",
        "The first step is to gather all necesary dependencies, in this case we would be reading from a Google Spreadsheet and converting the information as needed.\n",
        "\n",
        "Documentation: [Read from sheets](https://developers.google.com/sheets/api/quickstart/python)"
      ]
    },
    {
      "cell_type": "code",
      "metadata": {
        "colab": {
          "base_uri": "https://localhost:8080/"
        },
        "id": "u2d5Hiyh7Bcv",
        "outputId": "a069a23a-b2b8-4b5a-bc0e-717a5bdfed89"
      },
      "source": [
        "pip install --upgrade google-api-python-client google-auth-httplib2 google-auth-oauthlib"
      ],
      "execution_count": null,
      "outputs": [
        {
          "output_type": "stream",
          "text": [
            "Collecting google-api-python-client\n",
            "\u001b[?25l  Downloading https://files.pythonhosted.org/packages/5f/02/ae0c3aa746e2f9574727875e5110700a51f2aa1877c98b78433ad76630aa/google_api_python_client-2.2.0-py2.py3-none-any.whl (7.0MB)\n",
            "\u001b[K     |████████████████████████████████| 7.0MB 9.1MB/s \n",
            "\u001b[?25hCollecting google-auth-httplib2\n",
            "  Downloading https://files.pythonhosted.org/packages/ba/db/721e2f3f32339080153995d16e46edc3a7657251f167ddcb9327e632783b/google_auth_httplib2-0.1.0-py2.py3-none-any.whl\n",
            "Requirement already up-to-date: google-auth-oauthlib in /usr/local/lib/python3.7/dist-packages (0.4.4)\n",
            "Requirement already satisfied, skipping upgrade: six<2dev,>=1.13.0 in /usr/local/lib/python3.7/dist-packages (from google-api-python-client) (1.15.0)\n",
            "Requirement already satisfied, skipping upgrade: uritemplate<4dev,>=3.0.0 in /usr/local/lib/python3.7/dist-packages (from google-api-python-client) (3.0.1)\n",
            "Requirement already satisfied, skipping upgrade: httplib2<1dev,>=0.15.0 in /usr/local/lib/python3.7/dist-packages (from google-api-python-client) (0.17.4)\n",
            "Requirement already satisfied, skipping upgrade: google-auth<2dev,>=1.16.0 in /usr/local/lib/python3.7/dist-packages (from google-api-python-client) (1.28.1)\n",
            "Requirement already satisfied, skipping upgrade: google-api-core<2dev,>=1.21.0 in /usr/local/lib/python3.7/dist-packages (from google-api-python-client) (1.26.3)\n",
            "Requirement already satisfied, skipping upgrade: requests-oauthlib>=0.7.0 in /usr/local/lib/python3.7/dist-packages (from google-auth-oauthlib) (1.3.0)\n",
            "Requirement already satisfied, skipping upgrade: cachetools<5.0,>=2.0.0 in /usr/local/lib/python3.7/dist-packages (from google-auth<2dev,>=1.16.0->google-api-python-client) (4.2.1)\n",
            "Requirement already satisfied, skipping upgrade: pyasn1-modules>=0.2.1 in /usr/local/lib/python3.7/dist-packages (from google-auth<2dev,>=1.16.0->google-api-python-client) (0.2.8)\n",
            "Requirement already satisfied, skipping upgrade: rsa<5,>=3.1.4; python_version >= \"3.6\" in /usr/local/lib/python3.7/dist-packages (from google-auth<2dev,>=1.16.0->google-api-python-client) (4.7.2)\n",
            "Requirement already satisfied, skipping upgrade: setuptools>=40.3.0 in /usr/local/lib/python3.7/dist-packages (from google-auth<2dev,>=1.16.0->google-api-python-client) (54.2.0)\n",
            "Requirement already satisfied, skipping upgrade: pytz in /usr/local/lib/python3.7/dist-packages (from google-api-core<2dev,>=1.21.0->google-api-python-client) (2018.9)\n",
            "Requirement already satisfied, skipping upgrade: protobuf>=3.12.0 in /usr/local/lib/python3.7/dist-packages (from google-api-core<2dev,>=1.21.0->google-api-python-client) (3.12.4)\n",
            "Requirement already satisfied, skipping upgrade: packaging>=14.3 in /usr/local/lib/python3.7/dist-packages (from google-api-core<2dev,>=1.21.0->google-api-python-client) (20.9)\n",
            "Requirement already satisfied, skipping upgrade: requests<3.0.0dev,>=2.18.0 in /usr/local/lib/python3.7/dist-packages (from google-api-core<2dev,>=1.21.0->google-api-python-client) (2.23.0)\n",
            "Requirement already satisfied, skipping upgrade: googleapis-common-protos<2.0dev,>=1.6.0 in /usr/local/lib/python3.7/dist-packages (from google-api-core<2dev,>=1.21.0->google-api-python-client) (1.53.0)\n",
            "Requirement already satisfied, skipping upgrade: oauthlib>=3.0.0 in /usr/local/lib/python3.7/dist-packages (from requests-oauthlib>=0.7.0->google-auth-oauthlib) (3.1.0)\n",
            "Requirement already satisfied, skipping upgrade: pyasn1<0.5.0,>=0.4.6 in /usr/local/lib/python3.7/dist-packages (from pyasn1-modules>=0.2.1->google-auth<2dev,>=1.16.0->google-api-python-client) (0.4.8)\n",
            "Requirement already satisfied, skipping upgrade: pyparsing>=2.0.2 in /usr/local/lib/python3.7/dist-packages (from packaging>=14.3->google-api-core<2dev,>=1.21.0->google-api-python-client) (2.4.7)\n",
            "Requirement already satisfied, skipping upgrade: idna<3,>=2.5 in /usr/local/lib/python3.7/dist-packages (from requests<3.0.0dev,>=2.18.0->google-api-core<2dev,>=1.21.0->google-api-python-client) (2.10)\n",
            "Requirement already satisfied, skipping upgrade: certifi>=2017.4.17 in /usr/local/lib/python3.7/dist-packages (from requests<3.0.0dev,>=2.18.0->google-api-core<2dev,>=1.21.0->google-api-python-client) (2020.12.5)\n",
            "Requirement already satisfied, skipping upgrade: urllib3!=1.25.0,!=1.25.1,<1.26,>=1.21.1 in /usr/local/lib/python3.7/dist-packages (from requests<3.0.0dev,>=2.18.0->google-api-core<2dev,>=1.21.0->google-api-python-client) (1.24.3)\n",
            "Requirement already satisfied, skipping upgrade: chardet<4,>=3.0.2 in /usr/local/lib/python3.7/dist-packages (from requests<3.0.0dev,>=2.18.0->google-api-core<2dev,>=1.21.0->google-api-python-client) (3.0.4)\n",
            "\u001b[31mERROR: earthengine-api 0.1.260 has requirement google-api-python-client<2,>=1.12.1, but you'll have google-api-python-client 2.2.0 which is incompatible.\u001b[0m\n",
            "Installing collected packages: google-auth-httplib2, google-api-python-client\n",
            "  Found existing installation: google-auth-httplib2 0.0.4\n",
            "    Uninstalling google-auth-httplib2-0.0.4:\n",
            "      Successfully uninstalled google-auth-httplib2-0.0.4\n",
            "  Found existing installation: google-api-python-client 1.12.8\n",
            "    Uninstalling google-api-python-client-1.12.8:\n",
            "      Successfully uninstalled google-api-python-client-1.12.8\n",
            "Successfully installed google-api-python-client-2.2.0 google-auth-httplib2-0.1.0\n"
          ],
          "name": "stdout"
        }
      ]
    },
    {
      "cell_type": "code",
      "metadata": {
        "id": "APr3ujdv7Dbo"
      },
      "source": [
        "import pandas as pd\n",
        "import numpy as np\n",
        "import gspread\n",
        "\n",
        "from google.colab import auth\n",
        "from oauth2client.client import GoogleCredentials"
      ],
      "execution_count": 30,
      "outputs": []
    },
    {
      "cell_type": "code",
      "metadata": {
        "id": "Uru5SQWB71an"
      },
      "source": [
        "dataset_url = 'https://docs.google.com/spreadsheets/d/1z6sD5_iGArHKal-hdd2BZkHuPhRJ47Xfu3ET1D0fj0E/edit?ts=60463182#gid=1539062128' \n",
        "tab_name = 'All Builds'\n",
        "critical_columns = ['Rig', 'APEX?', 'Build', 'CPU', 'GPU']\n",
        "#if the dataset is moved but the structure is the same this could be pointed to other links or other tabs."
      ],
      "execution_count": 52,
      "outputs": []
    },
    {
      "cell_type": "code",
      "metadata": {
        "id": "xNU1Mxds7_Xr"
      },
      "source": [
        "auth.authenticate_user() \n",
        "# This step will ask you to go into a link and approve the access to this tool. Don't do it if you don't feel confortable. You can search in internet, this is standard from Google.\n",
        "\n",
        "gc = gspread.authorize(GoogleCredentials.get_application_default())\n",
        "wb = gc.open_by_url(dataset_url) \n",
        "sheet = wb.worksheet(tab_name) \n",
        "\n",
        "data = sheet.get_all_values()[2:] # We skip the first two rows, no data \n",
        "orig_df = pd.DataFrame(data[1:]) # Skipping the header\n",
        "orig_df.columns = data[0] # Setting up the header\n",
        "\n",
        "orig_df = orig_df.applymap(lambda s:s.lower() if type(s) == str else s) # All to lowercase so I don't go crazy\n",
        "orig_df = orig_df.applymap(lambda s:s.rstrip('?') if type(s) == str else s) # Removing ? just in case\n",
        "\n",
        "clean_df = orig_df.replace(r'^\\s*$', np.nan, regex=True).dropna(subset=critical_columns) # Converting blanks to NaN and droping rows with NaN in critical values. (see above)\n",
        "clean_df['User'] = clean_df['User'].apply(hash) # Hashing Usernames :)\n",
        "clean_df['GPU'] = clean_df['GPU'].map(lambda x: x.rstrip('x2')).to_list() # Removing dual 3090, residual population\n",
        "###### There are records which are dropped because of NaN. !!!!!!!!!!"
      ],
      "execution_count": 89,
      "outputs": []
    },
    {
      "cell_type": "code",
      "metadata": {
        "id": "cGIcjVgS8P6N"
      },
      "source": [
        "mask = clean_df['Assembled ?'] == 'TRUE'\n",
        "completed_df = clean_df[mask]\n",
        "not_completed_df = clean_df[~mask]"
      ],
      "execution_count": 87,
      "outputs": []
    },
    {
      "cell_type": "code",
      "metadata": {
        "id": "6GMCJg7q-oxD",
        "colab": {
          "base_uri": "https://localhost:8080/"
        },
        "outputId": "787c1f2a-5b9e-4192-b353-5508d905367f"
      },
      "source": [
        "clean_df['User'].apply(hash)"
      ],
      "execution_count": 86,
      "outputs": [
        {
          "output_type": "execute_result",
          "data": {
            "text/plain": [
              "0      1943837010158971918\n",
              "1      1101663512034280585\n",
              "2       784391070832263473\n",
              "3      2242670421929926042\n",
              "4        52300159483382933\n",
              "              ...         \n",
              "150   -1032415116576079081\n",
              "151   -1032415116576079081\n",
              "152   -1032415116576079081\n",
              "153   -1849468256746663057\n",
              "154    1975133446345287632\n",
              "Name: User, Length: 153, dtype: int64"
            ]
          },
          "metadata": {
            "tags": []
          },
          "execution_count": 86
        }
      ]
    },
    {
      "cell_type": "code",
      "metadata": {
        "colab": {
          "base_uri": "https://localhost:8080/",
          "height": 419
        },
        "id": "qp8THMe4F5cR",
        "outputId": "3e92222c-997a-4197-d7bb-c8a7eb3f1b50"
      },
      "source": [
        "clean_df"
      ],
      "execution_count": 90,
      "outputs": [
        {
          "output_type": "execute_result",
          "data": {
            "text/html": [
              "<div>\n",
              "<style scoped>\n",
              "    .dataframe tbody tr th:only-of-type {\n",
              "        vertical-align: middle;\n",
              "    }\n",
              "\n",
              "    .dataframe tbody tr th {\n",
              "        vertical-align: top;\n",
              "    }\n",
              "\n",
              "    .dataframe thead th {\n",
              "        text-align: right;\n",
              "    }\n",
              "</style>\n",
              "<table border=\"1\" class=\"dataframe\">\n",
              "  <thead>\n",
              "    <tr style=\"text-align: right;\">\n",
              "      <th></th>\n",
              "      <th>User</th>\n",
              "      <th>Rig</th>\n",
              "      <th>APEX?</th>\n",
              "      <th>Paint?</th>\n",
              "      <th>Build</th>\n",
              "      <th>CPU</th>\n",
              "      <th>GPU</th>\n",
              "      <th>Ordered Date</th>\n",
              "      <th>Assembled ?</th>\n",
              "      <th>Completed Date</th>\n",
              "      <th>Days</th>\n",
              "    </tr>\n",
              "  </thead>\n",
              "  <tbody>\n",
              "    <tr>\n",
              "      <th>0</th>\n",
              "      <td>8360686874574768185</td>\n",
              "      <td>turbo</td>\n",
              "      <td>yes</td>\n",
              "      <td>no</td>\n",
              "      <td>custom</td>\n",
              "      <td>5900x</td>\n",
              "      <td>3080</td>\n",
              "      <td>9/15/2020</td>\n",
              "      <td>true</td>\n",
              "      <td>1/8/2021</td>\n",
              "      <td>115</td>\n",
              "    </tr>\n",
              "    <tr>\n",
              "      <th>1</th>\n",
              "      <td>1101663512034280585</td>\n",
              "      <td>turbo</td>\n",
              "      <td>yes</td>\n",
              "      <td>no</td>\n",
              "      <td>custom</td>\n",
              "      <td>5950x</td>\n",
              "      <td>3090</td>\n",
              "      <td>9/21/2020</td>\n",
              "      <td>true</td>\n",
              "      <td>2/8/2021</td>\n",
              "      <td>140</td>\n",
              "    </tr>\n",
              "    <tr>\n",
              "      <th>2</th>\n",
              "      <td>-8804388687582014717</td>\n",
              "      <td>rush</td>\n",
              "      <td>yes</td>\n",
              "      <td>no</td>\n",
              "      <td>custom</td>\n",
              "      <td>3970x</td>\n",
              "      <td>3090</td>\n",
              "      <td>9/22/2020</td>\n",
              "      <td>true</td>\n",
              "      <td>1/27/2021</td>\n",
              "      <td>127</td>\n",
              "    </tr>\n",
              "    <tr>\n",
              "      <th>3</th>\n",
              "      <td>4437977073109368498</td>\n",
              "      <td>turbo</td>\n",
              "      <td>yes</td>\n",
              "      <td>no</td>\n",
              "      <td>custom</td>\n",
              "      <td>5900x</td>\n",
              "      <td>3090</td>\n",
              "      <td>9/22/2020</td>\n",
              "      <td>true</td>\n",
              "      <td>2/8/2021</td>\n",
              "      <td>139</td>\n",
              "    </tr>\n",
              "    <tr>\n",
              "      <th>5</th>\n",
              "      <td>-4288398554463419995</td>\n",
              "      <td>rush</td>\n",
              "      <td>yes</td>\n",
              "      <td>no</td>\n",
              "      <td>custom</td>\n",
              "      <td>5950x</td>\n",
              "      <td>3090</td>\n",
              "      <td>9/25/2020</td>\n",
              "      <td>true</td>\n",
              "      <td>2/4/2021</td>\n",
              "      <td>132</td>\n",
              "    </tr>\n",
              "    <tr>\n",
              "      <th>...</th>\n",
              "      <td>...</td>\n",
              "      <td>...</td>\n",
              "      <td>...</td>\n",
              "      <td>...</td>\n",
              "      <td>...</td>\n",
              "      <td>...</td>\n",
              "      <td>...</td>\n",
              "      <td>...</td>\n",
              "      <td>...</td>\n",
              "      <td>...</td>\n",
              "      <td>...</td>\n",
              "    </tr>\n",
              "    <tr>\n",
              "      <th>150</th>\n",
              "      <td>-7949944144217160934</td>\n",
              "      <td>vybe</td>\n",
              "      <td>no</td>\n",
              "      <td>no</td>\n",
              "      <td>stage 3</td>\n",
              "      <td>5600x</td>\n",
              "      <td>3060</td>\n",
              "      <td>4/7/2021</td>\n",
              "      <td>false</td>\n",
              "      <td>NaN</td>\n",
              "      <td>7</td>\n",
              "    </tr>\n",
              "    <tr>\n",
              "      <th>151</th>\n",
              "      <td>-7949944144217160934</td>\n",
              "      <td>vybe</td>\n",
              "      <td>no</td>\n",
              "      <td>no</td>\n",
              "      <td>stage 4</td>\n",
              "      <td>5900c</td>\n",
              "      <td>3080</td>\n",
              "      <td>4/8/2021</td>\n",
              "      <td>false</td>\n",
              "      <td>NaN</td>\n",
              "      <td>6</td>\n",
              "    </tr>\n",
              "    <tr>\n",
              "      <th>152</th>\n",
              "      <td>-7949944144217160934</td>\n",
              "      <td>r1</td>\n",
              "      <td>yes</td>\n",
              "      <td>no</td>\n",
              "      <td>custom</td>\n",
              "      <td>5950x</td>\n",
              "      <td>6900xt</td>\n",
              "      <td>12/30/2020</td>\n",
              "      <td>false</td>\n",
              "      <td>NaN</td>\n",
              "      <td>105</td>\n",
              "    </tr>\n",
              "    <tr>\n",
              "      <th>153</th>\n",
              "      <td>1375650755876427741</td>\n",
              "      <td>vybe</td>\n",
              "      <td>no</td>\n",
              "      <td>no</td>\n",
              "      <td>custom</td>\n",
              "      <td>5900x</td>\n",
              "      <td>3080</td>\n",
              "      <td>12/18/2020</td>\n",
              "      <td>false</td>\n",
              "      <td>NaN</td>\n",
              "      <td>117</td>\n",
              "    </tr>\n",
              "    <tr>\n",
              "      <th>154</th>\n",
              "      <td>-4425910639662535134</td>\n",
              "      <td>turbo</td>\n",
              "      <td>yes</td>\n",
              "      <td>no</td>\n",
              "      <td>custom</td>\n",
              "      <td>5950x</td>\n",
              "      <td>3090</td>\n",
              "      <td>2/11/2021</td>\n",
              "      <td>false</td>\n",
              "      <td>NaN</td>\n",
              "      <td>62</td>\n",
              "    </tr>\n",
              "  </tbody>\n",
              "</table>\n",
              "<p>147 rows × 11 columns</p>\n",
              "</div>"
            ],
            "text/plain": [
              "                    User    Rig APEX?  ... Assembled ? Completed Date Days\n",
              "0    8360686874574768185  turbo   yes  ...        true       1/8/2021  115\n",
              "1    1101663512034280585  turbo   yes  ...        true       2/8/2021  140\n",
              "2   -8804388687582014717   rush   yes  ...        true      1/27/2021  127\n",
              "3    4437977073109368498  turbo   yes  ...        true       2/8/2021  139\n",
              "5   -4288398554463419995   rush   yes  ...        true       2/4/2021  132\n",
              "..                   ...    ...   ...  ...         ...            ...  ...\n",
              "150 -7949944144217160934   vybe    no  ...       false            NaN    7\n",
              "151 -7949944144217160934   vybe    no  ...       false            NaN    6\n",
              "152 -7949944144217160934     r1   yes  ...       false            NaN  105\n",
              "153  1375650755876427741   vybe    no  ...       false            NaN  117\n",
              "154 -4425910639662535134  turbo   yes  ...       false            NaN   62\n",
              "\n",
              "[147 rows x 11 columns]"
            ]
          },
          "metadata": {
            "tags": []
          },
          "execution_count": 90
        }
      ]
    },
    {
      "cell_type": "code",
      "metadata": {
        "id": "XoEXh30JI2E0"
      },
      "source": [
        ""
      ],
      "execution_count": null,
      "outputs": []
    }
  ]
}