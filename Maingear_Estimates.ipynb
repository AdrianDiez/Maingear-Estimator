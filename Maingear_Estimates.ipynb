{
  "nbformat": 4,
  "nbformat_minor": 0,
  "metadata": {
    "colab": {
      "name": "Maingear Estimates.ipynb",
      "provenance": [],
      "authorship_tag": "ABX9TyPvPYzJryDhxAX2xPtrYiFc",
      "include_colab_link": true
    },
    "kernelspec": {
      "name": "python3",
      "display_name": "Python 3"
    },
    "language_info": {
      "name": "python"
    }
  },
  "cells": [
    {
      "cell_type": "markdown",
      "metadata": {
        "id": "view-in-github",
        "colab_type": "text"
      },
      "source": [
        "<a href=\"https://colab.research.google.com/github/AdrianDiez/Maingear-Estimator/blob/main/Maingear_Estimates.ipynb\" target=\"_parent\"><img src=\"https://colab.research.google.com/assets/colab-badge.svg\" alt=\"Open In Colab\"/></a>"
      ]
    },
    {
      "cell_type": "markdown",
      "metadata": {
        "id": "dTqzXdsDy8E8"
      },
      "source": [
        "# Maingear Estimator\n",
        "\n",
        "Given the low availability of data after some research it was found that using logarithmic regression would be the most addecuate given the simplicity of the task and the amount of information in the dataset.\n",
        "Source: [The Best Classifier for Small Datasets: Log-F(m,m) Logit](https://medium.com/@remycanario17/log-f-m-m-logit-the-best-classification-algorithm-for-small-datasets-fc92fd95bc58)"
      ]
    },
    {
      "cell_type": "markdown",
      "metadata": {
        "id": "FIYjs5q-7iNm"
      },
      "source": [
        "## Dependencies\n",
        "The first step is to gather all necesary dependencies, in this case we would be reading from a Google Spreadsheet and converting the information as needed.\n",
        "\n",
        "Documentation: [Read from sheets](https://developers.google.com/sheets/api/quickstart/python)"
      ]
    },
    {
      "cell_type": "code",
      "metadata": {
        "colab": {
          "base_uri": "https://localhost:8080/"
        },
        "id": "u2d5Hiyh7Bcv",
        "outputId": "a069a23a-b2b8-4b5a-bc0e-717a5bdfed89"
      },
      "source": [
        "pip install --upgrade google-api-python-client google-auth-httplib2 google-auth-oauthlib"
      ],
      "execution_count": null,
      "outputs": [
        {
          "output_type": "stream",
          "text": [
            "Collecting google-api-python-client\n",
            "\u001b[?25l  Downloading https://files.pythonhosted.org/packages/5f/02/ae0c3aa746e2f9574727875e5110700a51f2aa1877c98b78433ad76630aa/google_api_python_client-2.2.0-py2.py3-none-any.whl (7.0MB)\n",
            "\u001b[K     |████████████████████████████████| 7.0MB 9.1MB/s \n",
            "\u001b[?25hCollecting google-auth-httplib2\n",
            "  Downloading https://files.pythonhosted.org/packages/ba/db/721e2f3f32339080153995d16e46edc3a7657251f167ddcb9327e632783b/google_auth_httplib2-0.1.0-py2.py3-none-any.whl\n",
            "Requirement already up-to-date: google-auth-oauthlib in /usr/local/lib/python3.7/dist-packages (0.4.4)\n",
            "Requirement already satisfied, skipping upgrade: six<2dev,>=1.13.0 in /usr/local/lib/python3.7/dist-packages (from google-api-python-client) (1.15.0)\n",
            "Requirement already satisfied, skipping upgrade: uritemplate<4dev,>=3.0.0 in /usr/local/lib/python3.7/dist-packages (from google-api-python-client) (3.0.1)\n",
            "Requirement already satisfied, skipping upgrade: httplib2<1dev,>=0.15.0 in /usr/local/lib/python3.7/dist-packages (from google-api-python-client) (0.17.4)\n",
            "Requirement already satisfied, skipping upgrade: google-auth<2dev,>=1.16.0 in /usr/local/lib/python3.7/dist-packages (from google-api-python-client) (1.28.1)\n",
            "Requirement already satisfied, skipping upgrade: google-api-core<2dev,>=1.21.0 in /usr/local/lib/python3.7/dist-packages (from google-api-python-client) (1.26.3)\n",
            "Requirement already satisfied, skipping upgrade: requests-oauthlib>=0.7.0 in /usr/local/lib/python3.7/dist-packages (from google-auth-oauthlib) (1.3.0)\n",
            "Requirement already satisfied, skipping upgrade: cachetools<5.0,>=2.0.0 in /usr/local/lib/python3.7/dist-packages (from google-auth<2dev,>=1.16.0->google-api-python-client) (4.2.1)\n",
            "Requirement already satisfied, skipping upgrade: pyasn1-modules>=0.2.1 in /usr/local/lib/python3.7/dist-packages (from google-auth<2dev,>=1.16.0->google-api-python-client) (0.2.8)\n",
            "Requirement already satisfied, skipping upgrade: rsa<5,>=3.1.4; python_version >= \"3.6\" in /usr/local/lib/python3.7/dist-packages (from google-auth<2dev,>=1.16.0->google-api-python-client) (4.7.2)\n",
            "Requirement already satisfied, skipping upgrade: setuptools>=40.3.0 in /usr/local/lib/python3.7/dist-packages (from google-auth<2dev,>=1.16.0->google-api-python-client) (54.2.0)\n",
            "Requirement already satisfied, skipping upgrade: pytz in /usr/local/lib/python3.7/dist-packages (from google-api-core<2dev,>=1.21.0->google-api-python-client) (2018.9)\n",
            "Requirement already satisfied, skipping upgrade: protobuf>=3.12.0 in /usr/local/lib/python3.7/dist-packages (from google-api-core<2dev,>=1.21.0->google-api-python-client) (3.12.4)\n",
            "Requirement already satisfied, skipping upgrade: packaging>=14.3 in /usr/local/lib/python3.7/dist-packages (from google-api-core<2dev,>=1.21.0->google-api-python-client) (20.9)\n",
            "Requirement already satisfied, skipping upgrade: requests<3.0.0dev,>=2.18.0 in /usr/local/lib/python3.7/dist-packages (from google-api-core<2dev,>=1.21.0->google-api-python-client) (2.23.0)\n",
            "Requirement already satisfied, skipping upgrade: googleapis-common-protos<2.0dev,>=1.6.0 in /usr/local/lib/python3.7/dist-packages (from google-api-core<2dev,>=1.21.0->google-api-python-client) (1.53.0)\n",
            "Requirement already satisfied, skipping upgrade: oauthlib>=3.0.0 in /usr/local/lib/python3.7/dist-packages (from requests-oauthlib>=0.7.0->google-auth-oauthlib) (3.1.0)\n",
            "Requirement already satisfied, skipping upgrade: pyasn1<0.5.0,>=0.4.6 in /usr/local/lib/python3.7/dist-packages (from pyasn1-modules>=0.2.1->google-auth<2dev,>=1.16.0->google-api-python-client) (0.4.8)\n",
            "Requirement already satisfied, skipping upgrade: pyparsing>=2.0.2 in /usr/local/lib/python3.7/dist-packages (from packaging>=14.3->google-api-core<2dev,>=1.21.0->google-api-python-client) (2.4.7)\n",
            "Requirement already satisfied, skipping upgrade: idna<3,>=2.5 in /usr/local/lib/python3.7/dist-packages (from requests<3.0.0dev,>=2.18.0->google-api-core<2dev,>=1.21.0->google-api-python-client) (2.10)\n",
            "Requirement already satisfied, skipping upgrade: certifi>=2017.4.17 in /usr/local/lib/python3.7/dist-packages (from requests<3.0.0dev,>=2.18.0->google-api-core<2dev,>=1.21.0->google-api-python-client) (2020.12.5)\n",
            "Requirement already satisfied, skipping upgrade: urllib3!=1.25.0,!=1.25.1,<1.26,>=1.21.1 in /usr/local/lib/python3.7/dist-packages (from requests<3.0.0dev,>=2.18.0->google-api-core<2dev,>=1.21.0->google-api-python-client) (1.24.3)\n",
            "Requirement already satisfied, skipping upgrade: chardet<4,>=3.0.2 in /usr/local/lib/python3.7/dist-packages (from requests<3.0.0dev,>=2.18.0->google-api-core<2dev,>=1.21.0->google-api-python-client) (3.0.4)\n",
            "\u001b[31mERROR: earthengine-api 0.1.260 has requirement google-api-python-client<2,>=1.12.1, but you'll have google-api-python-client 2.2.0 which is incompatible.\u001b[0m\n",
            "Installing collected packages: google-auth-httplib2, google-api-python-client\n",
            "  Found existing installation: google-auth-httplib2 0.0.4\n",
            "    Uninstalling google-auth-httplib2-0.0.4:\n",
            "      Successfully uninstalled google-auth-httplib2-0.0.4\n",
            "  Found existing installation: google-api-python-client 1.12.8\n",
            "    Uninstalling google-api-python-client-1.12.8:\n",
            "      Successfully uninstalled google-api-python-client-1.12.8\n",
            "Successfully installed google-api-python-client-2.2.0 google-auth-httplib2-0.1.0\n"
          ],
          "name": "stdout"
        }
      ]
    },
    {
      "cell_type": "code",
      "metadata": {
        "id": "APr3ujdv7Dbo"
      },
      "source": [
        "import pandas as pd\n",
        "import numpy as np\n",
        "import matplotlib.pyplot as plt\n",
        "\n",
        "import gspread\n",
        "\n",
        "from google.colab import auth\n",
        "from oauth2client.client import GoogleCredentials"
      ],
      "execution_count": 164,
      "outputs": []
    },
    {
      "cell_type": "code",
      "metadata": {
        "id": "Uru5SQWB71an"
      },
      "source": [
        "dataset_url = 'https://docs.google.com/spreadsheets/d/1z6sD5_iGArHKal-hdd2BZkHuPhRJ47Xfu3ET1D0fj0E/edit?ts=60463182#gid=1539062128' \n",
        "tab_name = 'All Builds'\n",
        "critical_columns = ['RIG', 'APEX', 'BUILD', 'CPU', 'GPU']\n",
        "column_name = {'APEX?' : 'APEX', 'Rig' : 'RIG', 'Build' : 'BUILD', 'User' : 'USER','Assembled ?' : 'COMPLETED', \n",
        "               'Paint?' : 'PAINT', 'Ordered Date' : 'ORDERED_DATE', 'Completed Date' : 'COMPLETED_DATE', 'Days' : 'DAYS'}\n",
        "#if the dataset is moved but the structure is the same this could be pointed to other links or other tabs."
      ],
      "execution_count": 92,
      "outputs": []
    },
    {
      "cell_type": "code",
      "metadata": {
        "id": "xNU1Mxds7_Xr"
      },
      "source": [
        "auth.authenticate_user() \n",
        "# This step will ask you to go into a link and approve the access to this tool. Don't do it if you don't feel confortable. You can search in internet, this is standard from Google.\n",
        "\n",
        "gc = gspread.authorize(GoogleCredentials.get_application_default())\n",
        "wb = gc.open_by_url(dataset_url) \n",
        "sheet = wb.worksheet(tab_name) \n",
        "\n",
        "data = sheet.get_all_values()[2:] # We skip the first two rows, no data \n",
        "orig_df = pd.DataFrame(data[1:]) # Skipping the header\n",
        "orig_df.columns = data[0] # Setting up the header\n",
        "orig_df = orig_df.rename(columns=column_name)\n",
        "\n",
        "orig_df = orig_df.applymap(lambda s:s.lower() if type(s) == str else s) # All to lowercase so I don't go crazy\n",
        "orig_df = orig_df.applymap(lambda s:s.rstrip('?') if type(s) == str else s) # Removing ? just in case\n",
        "\n",
        "clean_df = orig_df.replace(r'^\\s*$', np.nan, regex=True).dropna(subset=critical_columns) # Converting blanks to NaN and droping rows with NaN in critical values. (see above)\n",
        "clean_df['USER'] = clean_df['USER'].apply(hash) # Hashing Usernames :)\n",
        "clean_df['GPU'] = clean_df['GPU'].map(lambda x: x.rstrip('x2').strip()).to_list() # Removing dual 3090, residual population\n",
        "clean_df['DAYS'] = clean_df['DAYS'].astype(int)\n",
        "###### There are records which are dropped because of NaN. !!!!!!!!!!"
      ],
      "execution_count": 130,
      "outputs": []
    },
    {
      "cell_type": "code",
      "metadata": {
        "id": "cGIcjVgS8P6N"
      },
      "source": [
        "# We split the dataset between completed status\n",
        "\n",
        "mask = clean_df['COMPLETED'] == 'true'\n",
        "completed_df = clean_df[mask]\n",
        "not_completed_df = clean_df[~mask]"
      ],
      "execution_count": 131,
      "outputs": []
    },
    {
      "cell_type": "code",
      "metadata": {
        "id": "XoEXh30JI2E0"
      },
      "source": [
        "avg_dict = {}\n",
        "\n",
        "for col in critical_columns:\n",
        "  sup_dict = {}\n",
        "  avg_dict[col] = sup_dict\n",
        "  for val in completed_df[col].unique():\n",
        "    mask = completed_df[col] == val\n",
        "    sup_dict[val] = round(completed_df[mask]['DAYS'].mean())"
      ],
      "execution_count": 157,
      "outputs": []
    },
    {
      "cell_type": "code",
      "metadata": {
        "colab": {
          "base_uri": "https://localhost:8080/"
        },
        "id": "oguvGemXML36",
        "outputId": "4fd48575-04f9-422b-d554-94f06393ccc3"
      },
      "source": [
        "avg_dict['GPU']"
      ],
      "execution_count": 165,
      "outputs": [
        {
          "output_type": "execute_result",
          "data": {
            "text/plain": [
              "{'2060': 81, '3060 ti': 50, '3070': 59, '3080': 74, '3090': 110, '6800xt': 87}"
            ]
          },
          "metadata": {
            "tags": []
          },
          "execution_count": 165
        }
      ]
    },
    {
      "cell_type": "code",
      "metadata": {
        "colab": {
          "base_uri": "https://localhost:8080/"
        },
        "id": "GKny3YhFNaWO",
        "outputId": "6d9046e3-7388-4a57-a76f-502568a2abde"
      },
      "source": [
        "completed_df['DAYS'].astype(int).mean()"
      ],
      "execution_count": 129,
      "outputs": [
        {
          "output_type": "execute_result",
          "data": {
            "text/plain": [
              "76.48958333333333"
            ]
          },
          "metadata": {
            "tags": []
          },
          "execution_count": 129
        }
      ]
    },
    {
      "cell_type": "code",
      "metadata": {
        "id": "E4H0vg9bOC_M"
      },
      "source": [
        "def paint_dict(data_dict, x_label):\n",
        "  plt.rcParams['axes.edgecolor']='#333F4B'\n",
        "  plt.rcParams['axes.linewidth']=0.8\n",
        "  plt.rcParams['xtick.color']='#333F4B'\n",
        "  plt.rcParams['ytick.color']='#333F4B'\n",
        "\n",
        "  fig, ax = plt.subplots(figsize=(15,10))\n",
        "\n",
        "  ax.set_ylabel('Days', fontsize=15, fontweight='black', color = '#333F4B')\n",
        "  ax.set_xlabel(x_label, fontsize=15, fontweight='black', color = '#333F4B')\n",
        "\n",
        "  fig.text(-0.23, 0.96, 'Average time by ' + x_label, fontsize=15, fontweight='black', color = '#333F4B')\n",
        "\n",
        "  ax.bar(range(len(data_dict)), list(data_dict.values()), align='center', color='#007ACC', alpha=0.4, width=.2)\n",
        "  ax.spines['left'].set_position(('outward', 8))\n",
        "  ax.spines['bottom'].set_position(('outward', 5))\n",
        "  ax.spines['top'].set_visible(False)\n",
        "  ax.spines['right'].set_visible(False)\n",
        "\n",
        "  values = list(data_dict.values())\n",
        "  for i, v in enumerate(values):\n",
        "      ax.text(i - .05, v/values[i], values[i], fontsize=10, color='#333F4B')\n",
        "    \n",
        "  plt.xticks(range(len(data_dict)), list(data_dict.keys()))\n",
        "  plt.show()"
      ],
      "execution_count": 233,
      "outputs": []
    },
    {
      "cell_type": "code",
      "metadata": {
        "colab": {
          "base_uri": "https://localhost:8080/",
          "height": 685
        },
        "id": "2v7fo7diO4-j",
        "outputId": "4b8ebfee-e954-41fb-9807-d40471c11439"
      },
      "source": [
        "paint_dict(avg_dict['RIG'], 'RIG')"
      ],
      "execution_count": 242,
      "outputs": [
        {
          "output_type": "display_data",
          "data": {
            "image/png": "[encoded data removed]",
            "text/plain": [
              "<Figure size 1080x720 with 1 Axes>"
            ]
          },
          "metadata": {
            "tags": [],
            "needs_background": "light"
          }
        }
      ]
    },
    {
      "cell_type": "code",
      "metadata": {
        "colab": {
          "base_uri": "https://localhost:8080/"
        },
        "id": "rT9lp24LSx_r",
        "outputId": "9f2f6072-0e4a-468e-d45c-43ebf65099bb"
      },
      "source": [
        "avg_dict"
      ],
      "execution_count": 241,
      "outputs": [
        {
          "output_type": "execute_result",
          "data": {
            "text/plain": [
              "{'APEX': {'no': 62, 'yes': 117},\n",
              " 'BUILD': {'custom': 93,\n",
              "  'stage 3': 42,\n",
              "  'stage 4': 42,\n",
              "  'stage 4 (boost)': 44,\n",
              "  'stage bf': 56},\n",
              " 'CPU': {'10900k': 98,\n",
              "  '3970x': 127,\n",
              "  '5600x': 53,\n",
              "  '5800x': 74,\n",
              "  '5900x': 75,\n",
              "  '5900x ': 57,\n",
              "  '5950x': 96},\n",
              " 'GPU': {'2060': 81,\n",
              "  '3060 ti': 50,\n",
              "  '3070': 59,\n",
              "  '3080': 74,\n",
              "  '3090': 110,\n",
              "  '6800xt': 87},\n",
              " 'RIG': {'f131': 95, 'r1': 94, 'rush': 92, 'turbo': 99, 'vybe': 60}}"
            ]
          },
          "metadata": {
            "tags": []
          },
          "execution_count": 241
        }
      ]
    },
    {
      "cell_type": "code",
      "metadata": {
        "colab": {
          "base_uri": "https://localhost:8080/"
        },
        "id": "xsNo613BTGQZ",
        "outputId": "41bcd83b-0ada-4b05-971a-2267e5511af8"
      },
      "source": [
        "avg_dict['GPU'].values()"
      ],
      "execution_count": 180,
      "outputs": [
        {
          "output_type": "execute_result",
          "data": {
            "text/plain": [
              "dict_values([74, 110, 87, 81, 59, 50])"
            ]
          },
          "metadata": {
            "tags": []
          },
          "execution_count": 180
        }
      ]
    },
    {
      "cell_type": "code",
      "metadata": {
        "colab": {
          "base_uri": "https://localhost:8080/"
        },
        "id": "yPrw9591TaCR",
        "outputId": "b44d3917-d3c3-4218-c551-88d47ca65e8e"
      },
      "source": [
        "avg_dict['GPU'].keys()"
      ],
      "execution_count": 181,
      "outputs": [
        {
          "output_type": "execute_result",
          "data": {
            "text/plain": [
              "dict_keys(['3080', '3090', '6800xt', '2060', '3070', '3060 ti'])"
            ]
          },
          "metadata": {
            "tags": []
          },
          "execution_count": 181
        }
      ]
    },
    {
      "cell_type": "code",
      "metadata": {
        "id": "ZIhupvw5TbiV"
      },
      "source": [
        "\n",
        "# set labels\n",
        "ax.set_xlabel('Days', fontsize=15, fontweight='black', color = '#333F4B')\n",
        "ax.set_ylabel('')\n",
        "\n",
        "# set axis\n",
        "ax.tick_params(axis='both', which='major', labelsize=12)\n",
        "plt.yticks(my_range, avg_dict['GPU'].keys())\n",
        "\n",
        "# add an horizonal label for the y axis \n",
        "fig.text(-0.23, 0.96, 'GPU', fontsize=15, fontweight='black', color = '#333F4B')\n",
        "\n",
        "# change the style of the axis spines\n",
        "ax.spines['top'].set_visible(False)\n",
        "ax.spines['right'].set_visible(False)\n",
        "\n",
        "ax.spines['left'].set_bounds((1, my_range))\n",
        "ax.set_xlim(0,25)\n",
        "\n",
        "ax.spines['left'].set_position(('outward', 8))\n",
        "ax.spines['bottom'].set_position(('outward', 5))"
      ],
      "execution_count": null,
      "outputs": []
    }
  ]
}